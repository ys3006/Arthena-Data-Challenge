{
 "cells": [
  {
   "cell_type": "code",
   "execution_count": 694,
   "metadata": {
    "collapsed": true
   },
   "outputs": [],
   "source": [
    "import pandas as pd\n",
    "import numpy as np\n",
    "import matplotlib.pyplot as plt\n",
    "import seaborn as sns\n",
    "from sklearn import preprocessing\n",
    "from datetime import datetime as dt"
   ]
  },
  {
   "cell_type": "code",
   "execution_count": 695,
   "metadata": {
    "collapsed": true
   },
   "outputs": [],
   "source": [
    "df = pd.read_csv('/Users/Yifan/Downloads/task/data.csv', encoding=\"latin-1\")"
   ]
  },
  {
   "cell_type": "code",
   "execution_count": 696,
   "metadata": {},
   "outputs": [
    {
     "data": {
      "text/plain": [
       "(107578, 18)"
      ]
     },
     "execution_count": 696,
     "metadata": {},
     "output_type": "execute_result"
    }
   ],
   "source": [
    "# check dimensions of the dataset\n",
    "df.shape"
   ]
  },
  {
   "cell_type": "code",
   "execution_count": 697,
   "metadata": {},
   "outputs": [],
   "source": [
    "# get only valid data df2\n",
    "df1 = df[np.isfinite(df['hammer_price'])]\n",
    "df2 = df1[(df1['hammer_price'] > 0)]"
   ]
  },
  {
   "cell_type": "code",
   "execution_count": 698,
   "metadata": {},
   "outputs": [
    {
     "data": {
      "text/plain": [
       "(90980, 18)"
      ]
     },
     "execution_count": 698,
     "metadata": {},
     "output_type": "execute_result"
    }
   ],
   "source": [
    "df2.shape"
   ]
  },
  {
   "cell_type": "code",
   "execution_count": 699,
   "metadata": {},
   "outputs": [],
   "source": [
    "test = pd.read_csv('/Users/Yifan/Desktop/test.csv', encoding=\"latin-1\")"
   ]
  },
  {
   "cell_type": "code",
   "execution_count": 700,
   "metadata": {},
   "outputs": [
    {
     "data": {
      "text/plain": [
       "(16598, 18)"
      ]
     },
     "execution_count": 700,
     "metadata": {},
     "output_type": "execute_result"
    }
   ],
   "source": [
    "test.shape"
   ]
  },
  {
   "cell_type": "code",
   "execution_count": 701,
   "metadata": {
    "collapsed": true
   },
   "outputs": [],
   "source": [
    "# merge test to train df2\n",
    "df = pd.concat([test,df2], axis=0)"
   ]
  },
  {
   "cell_type": "code",
   "execution_count": 702,
   "metadata": {},
   "outputs": [
    {
     "data": {
      "text/plain": [
       "(107578, 18)"
      ]
     },
     "execution_count": 702,
     "metadata": {},
     "output_type": "execute_result"
    }
   ],
   "source": [
    "df.shape"
   ]
  },
  {
   "cell_type": "code",
   "execution_count": 703,
   "metadata": {},
   "outputs": [],
   "source": [
    "# dummy the location variable first given test and train has different size of category\n",
    "\n",
    "# Fill missing data with the word \"Missing\"\n",
    "df['location'].fillna(\"Missing\", inplace=True)\n",
    "# Create dummy variables\n",
    "dummies = pd.get_dummies(df['location'], prefix='location')\n",
    "# Update x to include dummies and drop the original variables\n",
    "df = pd.concat([df, dummies], axis=1)\n",
    "df.drop(['location'], axis=1, inplace=True)\n"
   ]
  },
  {
   "cell_type": "code",
   "execution_count": 704,
   "metadata": {},
   "outputs": [
    {
     "data": {
      "text/plain": [
       "(107578, 239)"
      ]
     },
     "execution_count": 704,
     "metadata": {},
     "output_type": "execute_result"
    }
   ],
   "source": [
    "df.shape"
   ]
  },
  {
   "cell_type": "code",
   "execution_count": 705,
   "metadata": {
    "collapsed": true
   },
   "outputs": [],
   "source": [
    "# since auction_date share the same format, convert to numeric\n",
    "def auc_date(x):\n",
    "    x['auction_date'] = pd.to_datetime(x['auction_date']).apply(lambda x: x.toordinal())\n",
    "\n",
    "\n",
    "auc_date(df)"
   ]
  },
  {
   "cell_type": "code",
   "execution_count": 706,
   "metadata": {
    "collapsed": true
   },
   "outputs": [],
   "source": [
    "#Before spliting dataset to test and train, clean the data first\n",
    "\n",
    "# Fill the missing data\n",
    "# Given the std of birth and death year are small and quite same, using the mean to fill NaN\n",
    "# For auction_date, estimate and measurement data, since they're highly skewed, using median instead\n",
    "def impute(x):\n",
    "    x.loc[:,'artist_birth_year'].fillna(x.loc[:,'artist_birth_year'].mean(), inplace=True)\n",
    "    x.loc[:,'artist_death_year'].fillna(x.loc[:,'artist_death_year'].mean(), inplace=True)\n",
    "    \n",
    "    # impute estimate price range with median\n",
    "    x.loc[:,'estimate_high'].fillna(x.loc[:,'estimate_high'].median(), inplace=True)\n",
    "    x.loc[:,'estimate_low'].fillna(x.loc[:,'estimate_low'].median(), inplace=True)\n",
    "    x.loc[:,'measurement_depth_cm'].fillna(x.loc[:,'measurement_depth_cm'].median(), inplace=True)\n",
    "    x.loc[:,'measurement_height_cm'].fillna(x.loc[:,'measurement_height_cm'].median(), inplace=True)\n",
    "    x.loc[:,'measurement_width_cm'].fillna(x.loc[:,'measurement_width_cm'].median(), inplace=True)\n",
    "    x.loc[:,'auction_date'].fillna(x.loc[:,'auction_date'].median(), inplace=True)\n",
    "    \n",
    "    \n",
    "impute(df)"
   ]
  },
  {
   "cell_type": "code",
   "execution_count": 707,
   "metadata": {},
   "outputs": [],
   "source": [
    "# Get new categorical, exclude location, which has already been dummies\n",
    "categorical_variables2 = ['artist_name',\n",
    " 'artist_nationality',\n",
    " 'category',\n",
    " 'currency']"
   ]
  },
  {
   "cell_type": "code",
   "execution_count": 708,
   "metadata": {
    "collapsed": true
   },
   "outputs": [],
   "source": [
    "# Get dummies for the other categorical vars\n",
    "for variable in categorical_variables2:\n",
    "    # Fill missing data with the word \"Missing\"\n",
    "    df[variable].fillna(\"Missing\", inplace=True)\n",
    "        # Create dummy variables\n",
    "    dummies = pd.get_dummies(df[variable], prefix=variable)\n",
    "        # Update x to include dummies and drop the original variables\n",
    "    df = pd.concat([df, dummies], axis=1)\n",
    "    df.drop([variable], axis=1, inplace=True)"
   ]
  },
  {
   "cell_type": "code",
   "execution_count": 709,
   "metadata": {},
   "outputs": [
    {
     "data": {
      "text/html": [
       "<table border=\"1\" class=\"dataframe\">\n",
       "  <thead>\n",
       "    <tr style=\"text-align: right;\">\n",
       "      <th></th>\n",
       "      <th>edition</th>\n",
       "      <th>materials</th>\n",
       "      <th>title</th>\n",
       "      <th>year_of_execution</th>\n",
       "    </tr>\n",
       "  </thead>\n",
       "  <tbody>\n",
       "    <tr>\n",
       "      <th>count</th>\n",
       "      <td>13376</td>\n",
       "      <td>105739</td>\n",
       "      <td>107118</td>\n",
       "      <td>79818</td>\n",
       "    </tr>\n",
       "    <tr>\n",
       "      <th>unique</th>\n",
       "      <td>8445</td>\n",
       "      <td>15021</td>\n",
       "      <td>39158</td>\n",
       "      <td>1026</td>\n",
       "    </tr>\n",
       "    <tr>\n",
       "      <th>top</th>\n",
       "      <td>unique</td>\n",
       "      <td>Works on Paper</td>\n",
       "      <td>Untitled</td>\n",
       "      <td>1969</td>\n",
       "    </tr>\n",
       "    <tr>\n",
       "      <th>freq</th>\n",
       "      <td>179</td>\n",
       "      <td>20346</td>\n",
       "      <td>12450</td>\n",
       "      <td>2113</td>\n",
       "    </tr>\n",
       "  </tbody>\n",
       "</table>"
      ],
      "text/plain": [
       "<IPython.core.display.HTML object>"
      ]
     },
     "metadata": {},
     "output_type": "display_data"
    }
   ],
   "source": [
    "# For the rest categorical vars ['edition', 'materials', 'title', 'year_of_execution']\n",
    "# show descritptive stats for categorical value\n",
    "\n",
    "from IPython.display import display, HTML\n",
    "def describe_cat(x):\n",
    "    display(HTML(x[x.columns[x.dtypes == 'object']].describe().to_html()))\n",
    "\n",
    "describe_cat(df)"
   ]
  },
  {
   "cell_type": "code",
   "execution_count": 710,
   "metadata": {},
   "outputs": [],
   "source": [
    "# Given the number of unique category are too large, dropping out these four vars\n",
    "df = df.drop(['edition', 'materials', 'title', 'year_of_execution'], axis=1)"
   ]
  },
  {
   "cell_type": "markdown",
   "metadata": {},
   "source": [
    "## Split test and train"
   ]
  },
  {
   "cell_type": "code",
   "execution_count": 711,
   "metadata": {},
   "outputs": [],
   "source": [
    "# extract test data with new created dummies location\n",
    "l = len(test)\n",
    "test2 = df.iloc[:l,]\n",
    "train = df.iloc[l:,]"
   ]
  },
  {
   "cell_type": "code",
   "execution_count": 712,
   "metadata": {
    "collapsed": true
   },
   "outputs": [],
   "source": [
    "# get train x and train y from train dataset\n",
    "y_train = np.log(train.pop('hammer_price'))\n",
    "x_train = train"
   ]
  },
  {
   "cell_type": "code",
   "execution_count": 683,
   "metadata": {},
   "outputs": [
    {
     "name": "stderr",
     "output_type": "stream",
     "text": [
      "/Library/Frameworks/Python.framework/Versions/3.6/lib/python3.6/site-packages/ipykernel_launcher.py:2: RuntimeWarning: invalid value encountered in log\n",
      "  \n"
     ]
    }
   ],
   "source": [
    "# get test x and test y from test dataset\n",
    "y_test = np.log(test2.pop('hammer_price'))\n",
    "x_test = test2"
   ]
  },
  {
   "cell_type": "code",
   "execution_count": null,
   "metadata": {},
   "outputs": [],
   "source": [
    "# Fit Random Forest Model\n",
    "RFmodel = RandomForestRegressor(1000, oob_score=True, n_jobs=-1, min_samples_leaf=1, random_state=42)\n",
    "RFmodel.fit(x_train,y_train)"
   ]
  },
  {
   "cell_type": "code",
   "execution_count": null,
   "metadata": {
    "collapsed": true
   },
   "outputs": [],
   "source": [
    "# Predict y by x_test with RF model\n",
    "# print output for y_train as predicted price of each row in test dataset\n",
    "y_predicted = RFmodel.predict(x_test)\n",
    "output = pd.DataFrame(y_predicted, columns = ['y_train'])"
   ]
  },
  {
   "cell_type": "code",
   "execution_count": null,
   "metadata": {
    "collapsed": true
   },
   "outputs": [],
   "source": [
    "# get RMSE for RF model \n",
    "RMSE = sqrt(mean_squared_error(y_test, y_predicted))\n",
    "print(RMSE)"
   ]
  },
  {
   "cell_type": "markdown",
   "metadata": {},
   "source": [
    "## My trial"
   ]
  },
  {
   "cell_type": "code",
   "execution_count": 753,
   "metadata": {},
   "outputs": [],
   "source": [
    "from sklearn.ensemble import RandomForestRegressor\n",
    "from sklearn.metrics import roc_auc_score\n",
    "\n",
    "df = pd.read_csv('/Users/Yifan/Downloads/task/data.csv', encoding=\"latin-1\")\n",
    "# drop missing and negative(-1) hammer_price row from data frame df\n",
    "df1 = df[np.isfinite(df['hammer_price'])]\n",
    "df2 = df1[(df1['hammer_price'] > 0)]"
   ]
  },
  {
   "cell_type": "code",
   "execution_count": 756,
   "metadata": {},
   "outputs": [],
   "source": [
    "y = np.log(df2['hammer_price'])\n",
    "x = df2.drop('hammer_price', axis=1)"
   ]
  },
  {
   "cell_type": "code",
   "execution_count": 758,
   "metadata": {},
   "outputs": [
    {
     "data": {
      "text/html": [
       "<table border=\"1\" class=\"dataframe\">\n",
       "  <thead>\n",
       "    <tr style=\"text-align: right;\">\n",
       "      <th></th>\n",
       "      <th>artist_name</th>\n",
       "      <th>artist_nationality</th>\n",
       "      <th>auction_date</th>\n",
       "      <th>category</th>\n",
       "      <th>currency</th>\n",
       "      <th>edition</th>\n",
       "      <th>location</th>\n",
       "      <th>materials</th>\n",
       "      <th>title</th>\n",
       "      <th>year_of_execution</th>\n",
       "    </tr>\n",
       "  </thead>\n",
       "  <tbody>\n",
       "    <tr>\n",
       "      <th>count</th>\n",
       "      <td>90980</td>\n",
       "      <td>90980</td>\n",
       "      <td>90980</td>\n",
       "      <td>90980</td>\n",
       "      <td>90980</td>\n",
       "      <td>7688</td>\n",
       "      <td>79419</td>\n",
       "      <td>89972</td>\n",
       "      <td>90935</td>\n",
       "      <td>65895</td>\n",
       "    </tr>\n",
       "    <tr>\n",
       "      <th>unique</th>\n",
       "      <td>119</td>\n",
       "      <td>17</td>\n",
       "      <td>4533</td>\n",
       "      <td>15</td>\n",
       "      <td>3</td>\n",
       "      <td>5064</td>\n",
       "      <td>208</td>\n",
       "      <td>8295</td>\n",
       "      <td>29915</td>\n",
       "      <td>642</td>\n",
       "    </tr>\n",
       "    <tr>\n",
       "      <th>top</th>\n",
       "      <td>Henry Moore</td>\n",
       "      <td>American</td>\n",
       "      <td>1995-03-22T01:00:00.000Z</td>\n",
       "      <td>Painting</td>\n",
       "      <td>USD</td>\n",
       "      <td>unique</td>\n",
       "      <td>New York</td>\n",
       "      <td>Works on Paper</td>\n",
       "      <td>Untitled</td>\n",
       "      <td>1969</td>\n",
       "    </tr>\n",
       "    <tr>\n",
       "      <th>freq</th>\n",
       "      <td>4874</td>\n",
       "      <td>37909</td>\n",
       "      <td>1234</td>\n",
       "      <td>22203</td>\n",
       "      <td>53555</td>\n",
       "      <td>32</td>\n",
       "      <td>41128</td>\n",
       "      <td>20334</td>\n",
       "      <td>10839</td>\n",
       "      <td>1799</td>\n",
       "    </tr>\n",
       "  </tbody>\n",
       "</table>"
      ],
      "text/plain": [
       "<IPython.core.display.HTML object>"
      ]
     },
     "metadata": {},
     "output_type": "display_data"
    }
   ],
   "source": [
    "# show descritptive stats for categorical value\n",
    "from IPython.display import display, HTML\n",
    "def describe_cat(x):\n",
    "    display(HTML(x[x.columns[x.dtypes == 'object']].describe().to_html()))\n",
    "\n",
    "describe_cat(x)"
   ]
  },
  {
   "cell_type": "code",
   "execution_count": 759,
   "metadata": {
    "collapsed": true
   },
   "outputs": [],
   "source": [
    "# Drop out large unique category number variables\n",
    "x = x.drop(['edition', 'materials', 'title', 'year_of_execution'], axis=1)"
   ]
  },
  {
   "cell_type": "code",
   "execution_count": 761,
   "metadata": {
    "collapsed": true
   },
   "outputs": [],
   "source": [
    "# since auction_date share the same format, convert to numeric\n",
    "def auc_date(x):\n",
    "    x['auction_date'] = pd.to_datetime(x['auction_date']).apply(lambda x: x.toordinal())\n",
    "\n",
    "auc_date(x)"
   ]
  },
  {
   "cell_type": "code",
   "execution_count": 763,
   "metadata": {
    "collapsed": true
   },
   "outputs": [],
   "source": [
    "# Only consider not large unique category number var for dummies\n",
    "categorical_variables = ['artist_name',\n",
    " 'artist_nationality',\n",
    " 'category',\n",
    " 'currency', 'location']"
   ]
  },
  {
   "cell_type": "code",
   "execution_count": 730,
   "metadata": {
    "collapsed": true
   },
   "outputs": [],
   "source": [
    "# Check unequal category size among these five cat vars\n",
    "new_catg=[]\n",
    "for i in categorical_variables:\n",
    "    dummy1=pd.get_dummies(df2[i]).shape[1]\n",
    "    dummy2=pd.get_dummies(test[i]).shape[1]\n",
    "    if dummy1==dummy2:\n",
    "        new_catg.append(i)"
   ]
  },
  {
   "cell_type": "code",
   "execution_count": 731,
   "metadata": {},
   "outputs": [
    {
     "data": {
      "text/plain": [
       "['artist_name', 'artist_nationality', 'category', 'currency']"
      ]
     },
     "execution_count": 731,
     "metadata": {},
     "output_type": "execute_result"
    }
   ],
   "source": [
    "new_catg"
   ]
  },
  {
   "cell_type": "markdown",
   "metadata": {
    "collapsed": true
   },
   "source": [
    "unequal var = location\n",
    "get the test data with location dummies"
   ]
  },
  {
   "cell_type": "code",
   "execution_count": 765,
   "metadata": {},
   "outputs": [],
   "source": [
    "# impute artist_death_year, estimate_high, estimate_low with mean\n",
    "def impute(x):\n",
    "    x.loc[:,'artist_death_year'].fillna(x.loc[:,'artist_death_year'].mean(), inplace=True)\n",
    "    # impute estimate price range with median\n",
    "    x.loc[:,'estimate_high'].fillna(x.loc[:,'estimate_high'].median(), inplace=True)\n",
    "    x.loc[:,'estimate_low'].fillna(x.loc[:,'estimate_low'].median(), inplace=True)\n",
    "\n",
    "impute(x)"
   ]
  },
  {
   "cell_type": "code",
   "execution_count": 766,
   "metadata": {},
   "outputs": [],
   "source": [
    "# Fill the missing value with mean and median\n",
    "for variable in categorical_variables:\n",
    "    # Fill missing data with the word \"Missing\"\n",
    "    x[variable].fillna(\"Missing\", inplace=True)\n",
    "        # Create dummy variables\n",
    "    dummies = pd.get_dummies(x[variable], prefix=variable)\n",
    "        # Update x to include dummies and drop the original variables\n",
    "    x = pd.concat([x, dummies], axis=1)\n",
    "    x.drop([variable], axis=1, inplace=True)"
   ]
  },
  {
   "cell_type": "code",
   "execution_count": 767,
   "metadata": {},
   "outputs": [
    {
     "data": {
      "text/plain": [
       "RandomForestRegressor(bootstrap=True, criterion='mse', max_depth=None,\n",
       "           max_features='auto', max_leaf_nodes=None,\n",
       "           min_impurity_decrease=0.0, min_impurity_split=None,\n",
       "           min_samples_leaf=1, min_samples_split=2,\n",
       "           min_weight_fraction_leaf=0.0, n_estimators=50, n_jobs=-1,\n",
       "           oob_score=True, random_state=42, verbose=0, warm_start=False)"
      ]
     },
     "execution_count": 767,
     "metadata": {},
     "output_type": "execute_result"
    }
   ],
   "source": [
    "# To save running time, only take in 50 estimators\n",
    "model = RandomForestRegressor(50, oob_score=True, n_jobs=-1, min_samples_leaf=1, random_state=42,)\n",
    "model.fit(x,y)"
   ]
  },
  {
   "cell_type": "code",
   "execution_count": 768,
   "metadata": {},
   "outputs": [
    {
     "name": "stdout",
     "output_type": "stream",
     "text": [
      "0.5600256068851456\n"
     ]
    }
   ],
   "source": [
    "# get RMSE for RF model \n",
    "RMSE3 = sqrt(mean_squared_error(y, model2.oob_prediction_))\n",
    "print(RMSE3)"
   ]
  },
  {
   "cell_type": "markdown",
   "metadata": {},
   "source": [
    "# Feature Importance"
   ]
  },
  {
   "cell_type": "code",
   "execution_count": 770,
   "metadata": {},
   "outputs": [],
   "source": [
    "# viz all variables\n",
    "feature_importances = pd.Series(model.feature_importances_, index=x.columns)"
   ]
  },
  {
   "cell_type": "code",
   "execution_count": 771,
   "metadata": {},
   "outputs": [
    {
     "data": {
      "text/plain": [
       "estimate_high                    0.440579\n",
       "estimate_low                     0.129804\n",
       "auction_date                     0.101689\n",
       "measurement_height_cm            0.082969\n",
       "measurement_width_cm             0.047334\n",
       "location_New York                0.037681\n",
       "artist_birth_year                0.026534\n",
       "location_London                  0.021039\n",
       "artist_death_year                0.013453\n",
       "currency_GBP                     0.008194\n",
       "artist_nationality_American      0.006227\n",
       "artist_name_Andre Derain         0.005877\n",
       "artist_name_Man Ray              0.005135\n",
       "measurement_depth_cm             0.004682\n",
       "location_Missing                 0.003960\n",
       "artist_nationality_British       0.002953\n",
       "artist_name_Willem de Kooning    0.002206\n",
       "artist_name_Henry Moore          0.002045\n",
       "artist_nationality_French        0.001931\n",
       "artist_name_Louise Nevelson      0.001899\n",
       "dtype: float64"
      ]
     },
     "execution_count": 771,
     "metadata": {},
     "output_type": "execute_result"
    }
   ],
   "source": [
    "feature_importances.sort_values(ascending=False)[:20]"
   ]
  },
  {
   "cell_type": "code",
   "execution_count": 772,
   "metadata": {},
   "outputs": [
    {
     "data": {
      "image/png": "[encoded data removed]",
      "text/plain": [
       "<matplotlib.figure.Figure at 0x15a7999e8>"
      ]
     },
     "metadata": {},
     "output_type": "display_data"
    }
   ],
   "source": [
    "# Since has 371 features, only plot first 20 important features\n",
    "feature_importances.sort_values(ascending=False)[:20].plot(kind='barh')\n",
    "plt.show()"
   ]
  },
  {
   "cell_type": "code",
   "execution_count": 773,
   "metadata": {},
   "outputs": [
    {
     "data": {
      "image/png": "[encoded data removed]",
      "text/plain": [
       "<matplotlib.figure.Figure at 0x18b9fd0b8>"
      ]
     },
     "metadata": {},
     "output_type": "display_data"
    }
   ],
   "source": [
    "# Since dummies spreading all categorical variables, need to \n",
    "# function for showing the summary\n",
    "\n",
    "def summary_feature_importances(model, feature_names, autoscale=True, headroom=0.05, width=10, summarized_columns=None):\n",
    "    # True autoscale would automatically adjust the x size to the largest feature + headroom\n",
    "    if autoscale:\n",
    "        x_scale = model.feature_importances_.max() + headroom\n",
    "    else:\n",
    "        x_scale = 1\n",
    "        \n",
    "    feature_dict = dict(zip(feature_names, model.feature_importances_))\n",
    "    \n",
    "    # The list of column prefixes to summarize on\n",
    "    if summarized_columns:\n",
    "        for col_name in summarized_columns:\n",
    "            # sum all the features that contain col_name, store in temp sum_value\n",
    "            sum_value = sum(x for i, x in feature_dict.items() if col_name in i)\n",
    "            \n",
    "            # remove all keys that are part of col_name\n",
    "            keys_to_remove = [i for i in feature_dict.keys() if col_name in i]\n",
    "            for i in keys_to_remove:\n",
    "                feature_dict.pop(i)\n",
    "            # finally, get the summarized field\n",
    "            feature_dict[col_name] = sum_value\n",
    "            \n",
    "    results = pd.Series(list(feature_dict.values()), index=feature_dict.keys())\n",
    "    results.sort_values()\n",
    "    results.plot(kind=\"barh\")\n",
    "\n",
    "summary_feature_importances(model2, x_model2.columns, summarized_columns = categorical_variables)\n",
    "plt.show()"
   ]
  },
  {
   "cell_type": "markdown",
   "metadata": {},
   "source": [
    "# Parameter tests"
   ]
  },
  {
   "cell_type": "code",
   "execution_count": 308,
   "metadata": {
    "collapsed": true
   },
   "outputs": [],
   "source": [
    "# Before consider taking in the dropped-out categorical variables\n",
    "# test the parameters to train the model better"
   ]
  },
  {
   "cell_type": "code",
   "execution_count": 315,
   "metadata": {},
   "outputs": [
    {
     "name": "stdout",
     "output_type": "stream",
     "text": [
      "30 trees\n",
      "RMSE 0.4242792332541968\n",
      "\n",
      "50 trees\n",
      "RMSE 0.41399065032426025\n",
      "\n",
      "100 trees\n",
      "RMSE 0.40700588124295356\n",
      "\n",
      "200 trees\n",
      "RMSE 0.40336296491393636\n",
      "\n",
      "500 trees\n",
      "RMSE 0.4013058126656349\n",
      "\n",
      "1000 trees\n",
      "RMSE 0.40045780838613515\n",
      "\n",
      "2000 trees\n",
      "RMSE 0.40013949846612795\n",
      "\n"
     ]
    },
    {
     "data": {
      "text/plain": [
       "<matplotlib.axes._subplots.AxesSubplot at 0x15255ea20>"
      ]
     },
     "execution_count": 315,
     "metadata": {},
     "output_type": "execute_result"
    }
   ],
   "source": [
    "### n_estimators\n",
    "\n",
    "results = []\n",
    "n_estimator_options = [30, 50, 100, 200, 500, 1000, 2000]\n",
    "\n",
    "for trees in n_estimator_options:\n",
    "    model2 = RandomForestRegressor(trees, oob_score=True, n_jobs=-1, random_state=42)\n",
    "    model2.fit(x_model2, y)\n",
    "    print (trees, \"trees\")\n",
    "    RMSE = sqrt(mean_squared_error(y, model2.oob_prediction_))\n",
    "    print (\"RMSE\", RMSE)\n",
    "    results.append(RMSE)\n",
    "    print (\"\")\n",
    "    \n",
    "pd.Series(results, n_estimator_options).plot()"
   ]
  },
  {
   "cell_type": "code",
   "execution_count": 316,
   "metadata": {},
   "outputs": [
    {
     "data": {
      "image/png": "[encoded data removed]",
      "text/plain": [
       "<matplotlib.figure.Figure at 0x10d15c0f0>"
      ]
     },
     "metadata": {},
     "output_type": "display_data"
    }
   ],
   "source": [
    "plt.show()"
   ]
  },
  {
   "cell_type": "markdown",
   "metadata": {},
   "source": [
    "# Output for n_estimators\n",
    "30 trees\n",
    "RMSE 0.4242792332541968\n",
    "\n",
    "50 trees\n",
    "RMSE 0.41399065032426025\n",
    "\n",
    "100 trees\n",
    "RMSE 0.40700588124295356\n",
    "\n",
    "200 trees\n",
    "RMSE 0.40336296491393636\n",
    "\n",
    "500 trees\n",
    "RMSE 0.4013058126656349\n",
    "\n",
    "1000 trees\n",
    "RMSE 0.40045780838613515\n",
    "\n",
    "2000 trees\n",
    "RMSE 0.40013949846612795"
   ]
  },
  {
   "cell_type": "code",
   "execution_count": 319,
   "metadata": {},
   "outputs": [
    {
     "name": "stdout",
     "output_type": "stream",
     "text": [
      "auto features\n",
      "RMSE:  0.40045780838613515\n",
      "\n",
      "None features\n",
      "RMSE:  0.40045780838613515\n",
      "\n",
      "sqrt features\n",
      "RMSE:  0.5934767324237529\n",
      "\n",
      "log2 features\n",
      "RMSE:  0.6265172991860208\n",
      "\n",
      "0.9 features\n",
      "RMSE:  0.4007869635753079\n",
      "\n",
      "0.2 features\n",
      "RMSE:  0.4901372231226885\n",
      "\n"
     ]
    },
    {
     "data": {
      "text/plain": [
       "<matplotlib.axes._subplots.AxesSubplot at 0x1528b83c8>"
      ]
     },
     "execution_count": 319,
     "metadata": {},
     "output_type": "execute_result"
    }
   ],
   "source": [
    "### max_features: number of features take into the model\n",
    "results = []\n",
    "max_features_options = [\"auto\", None, \"sqrt\", \"log2\", 0.9, 0.2]\n",
    "\n",
    "for max_features in max_features_options:\n",
    "    model2 = RandomForestRegressor(1000, oob_score=True, n_jobs=-1, random_state=42, max_features=max_features)\n",
    "    model2.fit(x_model2, y)\n",
    "    print (max_features, \"features\")\n",
    "    RMSE = sqrt(mean_squared_error(y, model2.oob_prediction_))\n",
    "    print (\"RMSE: \", RMSE)\n",
    "    results.append(RMSE)\n",
    "    print (\"\")\n",
    "    \n",
    "pd.Series(results, max_features_options).plot(kind=\"barh\")"
   ]
  },
  {
   "cell_type": "markdown",
   "metadata": {},
   "source": [
    "# Output for max_features\n",
    "auto features\n",
    "RMSE:  0.40045780838613515\n",
    "\n",
    "None features\n",
    "RMSE:  0.40045780838613515\n",
    "\n",
    "sqrt features\n",
    "RMSE:  0.5934767324237529\n",
    "\n",
    "log2 features\n",
    "RMSE:  0.6265172991860208\n",
    "\n",
    "0.9 features\n",
    "RMSE:  0.4007869635753079\n",
    "\n",
    "0.2 features\n",
    "RMSE:  0.4901372231226885"
   ]
  },
  {
   "cell_type": "code",
   "execution_count": 320,
   "metadata": {},
   "outputs": [
    {
     "data": {
      "image/png": "[encoded data removed]",
      "text/plain": [
       "<matplotlib.figure.Figure at 0x1528b8cc0>"
      ]
     },
     "metadata": {},
     "output_type": "display_data"
    }
   ],
   "source": [
    "plt.show()"
   ]
  },
  {
   "cell_type": "code",
   "execution_count": 322,
   "metadata": {},
   "outputs": [
    {
     "name": "stdout",
     "output_type": "stream",
     "text": [
      "1 min_samples\n",
      "RMSE:  0.40045780838613515\n",
      "\n",
      "2 min_samples\n",
      "RMSE:  0.4231435772780872\n",
      "\n",
      "3 min_samples\n",
      "RMSE:  0.445645520354724\n",
      "\n",
      "4 min_samples\n",
      "RMSE:  0.4681936943681546\n",
      "\n",
      "5 min_samples\n",
      "RMSE:  0.4884725948008925\n",
      "\n",
      "6 min_samples\n",
      "RMSE:  0.5063083571221659\n",
      "\n",
      "7 min_samples\n",
      "RMSE:  0.5219843677797569\n",
      "\n",
      "8 min_samples\n",
      "RMSE:  0.5360532301543444\n",
      "\n",
      "9 min_samples\n",
      "RMSE:  0.5486828723306593\n",
      "\n",
      "10 min_samples\n",
      "RMSE:  0.5600256068851456\n",
      "\n"
     ]
    },
    {
     "data": {
      "text/plain": [
       "<matplotlib.axes._subplots.AxesSubplot at 0x153eb4630>"
      ]
     },
     "execution_count": 322,
     "metadata": {},
     "output_type": "execute_result"
    }
   ],
   "source": [
    "### min_samples_leaf\n",
    "results = []\n",
    "min_samples_leaf_options = [1,2,3,4,5,6,7,8,9,10]\n",
    "\n",
    "for min_samples in min_samples_leaf_options:\n",
    "    model2 = RandomForestRegressor(1000, oob_score=True, n_jobs=-1, random_state=42, max_features='auto', min_samples_leaf=min_samples)\n",
    "    model2.fit(x_model2, y)\n",
    "    print (min_samples, \"min_samples\")\n",
    "    RMSE = sqrt(mean_squared_error(y, model2.oob_prediction_))\n",
    "    print (\"RMSE: \", RMSE)\n",
    "    results.append(RMSE)\n",
    "    print (\"\")\n",
    "    \n",
    "pd.Series(results, min_samples_leaf_options).plot()"
   ]
  },
  {
   "cell_type": "markdown",
   "metadata": {},
   "source": [
    "# Output for min_samples_leaf\n",
    "1 min_samples\n",
    "RMSE:  0.40045780838613515\n",
    "\n",
    "2 min_samples\n",
    "RMSE:  0.4231435772780872\n",
    "\n",
    "3 min_samples\n",
    "RMSE:  0.445645520354724\n",
    "\n",
    "4 min_samples\n",
    "RMSE:  0.4681936943681546\n",
    "\n",
    "5 min_samples\n",
    "RMSE:  0.4884725948008925\n",
    "\n",
    "6 min_samples\n",
    "RMSE:  0.5063083571221659\n",
    "\n",
    "7 min_samples\n",
    "RMSE:  0.5219843677797569\n",
    "\n",
    "8 min_samples\n",
    "RMSE:  0.5360532301543444\n",
    "\n",
    "9 min_samples\n",
    "RMSE:  0.5486828723306593\n",
    "\n",
    "10 min_samples\n",
    "RMSE:  0.5600256068851456"
   ]
  },
  {
   "cell_type": "code",
   "execution_count": 323,
   "metadata": {},
   "outputs": [
    {
     "data": {
      "image/png": "[encoded data removed]",
      "text/plain": [
       "<matplotlib.figure.Figure at 0x153eb0f28>"
      ]
     },
     "metadata": {},
     "output_type": "display_data"
    }
   ],
   "source": [
    "plt.show()"
   ]
  },
  {
   "cell_type": "markdown",
   "metadata": {},
   "source": [
    "plug in all optimized parameters to RF model3"
   ]
  },
  {
   "cell_type": "code",
   "execution_count": 325,
   "metadata": {},
   "outputs": [
    {
     "name": "stdout",
     "output_type": "stream",
     "text": [
      "RMSE:  0.40045780838613515\n"
     ]
    }
   ],
   "source": [
    "model_opt = RandomForestRegressor(n_estimators=1000, \n",
    "                               oob_score=True, \n",
    "                               n_jobs=-1, \n",
    "                               random_state=42, \n",
    "                               max_features='auto', \n",
    "                               min_samples_leaf=1)\n",
    "model_opt.fit(x, y)\n",
    "RMSE = sqrt(mean_squared_error(y, model_opt.oob_prediction_))\n",
    "print (\"RMSE: \", RMSE)"
   ]
  },
  {
   "cell_type": "markdown",
   "metadata": {},
   "source": [
    "Improved !!"
   ]
  },
  {
   "cell_type": "markdown",
   "metadata": {},
   "source": [
    "# EDA"
   ]
  },
  {
   "cell_type": "code",
   "execution_count": 39,
   "metadata": {},
   "outputs": [
    {
     "name": "stdout",
     "output_type": "stream",
     "text": [
      "Skewness: 59.378420\n",
      "Kurtosis: 6158.048880\n"
     ]
    }
   ],
   "source": [
    "#skewness and kurtosis for hammer_price\n",
    "print(\"Skewness: %f\" % df2['hammer_price'].skew())\n",
    "print(\"Kurtosis: %f\" % df2['hammer_price'].kurt())"
   ]
  },
  {
   "cell_type": "code",
   "execution_count": null,
   "metadata": {
    "collapsed": true
   },
   "outputs": [],
   "source": [
    "# viz hammer_price, highly skewed, then take log transformation\n",
    "y = np.log(y)"
   ]
  },
  {
   "cell_type": "code",
   "execution_count": 229,
   "metadata": {},
   "outputs": [
    {
     "data": {
      "image/png": "[encoded data removed]",
      "text/plain": [
       "<matplotlib.figure.Figure at 0x10eefdc18>"
      ]
     },
     "metadata": {},
     "output_type": "display_data"
    }
   ],
   "source": [
    "plt.hist(y)\n",
    "plt.show()"
   ]
  },
  {
   "cell_type": "code",
   "execution_count": 93,
   "metadata": {},
   "outputs": [
    {
     "data": {
      "text/html": [
       "<div>\n",
       "<style scoped>\n",
       "    .dataframe tbody tr th:only-of-type {\n",
       "        vertical-align: middle;\n",
       "    }\n",
       "\n",
       "    .dataframe tbody tr th {\n",
       "        vertical-align: top;\n",
       "    }\n",
       "\n",
       "    .dataframe thead th {\n",
       "        text-align: right;\n",
       "    }\n",
       "</style>\n",
       "<table border=\"1\" class=\"dataframe\">\n",
       "  <thead>\n",
       "    <tr style=\"text-align: right;\">\n",
       "      <th></th>\n",
       "      <th>Missing Ratio</th>\n",
       "    </tr>\n",
       "  </thead>\n",
       "  <tbody>\n",
       "    <tr>\n",
       "      <th>edition</th>\n",
       "      <td>91.549791</td>\n",
       "    </tr>\n",
       "    <tr>\n",
       "      <th>estimate_high</th>\n",
       "      <td>42.702792</td>\n",
       "    </tr>\n",
       "    <tr>\n",
       "      <th>estimate_low</th>\n",
       "      <td>42.700594</td>\n",
       "    </tr>\n",
       "    <tr>\n",
       "      <th>artist_death_year</th>\n",
       "      <td>30.023082</td>\n",
       "    </tr>\n",
       "    <tr>\n",
       "      <th>year_of_execution</th>\n",
       "      <td>27.571994</td>\n",
       "    </tr>\n",
       "    <tr>\n",
       "      <th>location</th>\n",
       "      <td>12.707188</td>\n",
       "    </tr>\n",
       "    <tr>\n",
       "      <th>materials</th>\n",
       "      <td>1.107936</td>\n",
       "    </tr>\n",
       "    <tr>\n",
       "      <th>title</th>\n",
       "      <td>0.049461</td>\n",
       "    </tr>\n",
       "  </tbody>\n",
       "</table>\n",
       "</div>"
      ],
      "text/plain": [
       "                   Missing Ratio\n",
       "edition                91.549791\n",
       "estimate_high          42.702792\n",
       "estimate_low           42.700594\n",
       "artist_death_year      30.023082\n",
       "year_of_execution      27.571994\n",
       "location               12.707188\n",
       "materials               1.107936\n",
       "title                   0.049461"
      ]
     },
     "execution_count": 93,
     "metadata": {},
     "output_type": "execute_result"
    }
   ],
   "source": [
    "# calculate missing data ratio after dropping the NaN and negative hamemr_price\n",
    "df3 = df\n",
    "df3_na = (df3.isnull().sum() / len(df3)) * 100\n",
    "df3_na = df3_na.drop(df3_na[df3_na == 0].index).sort_values(ascending=False)\n",
    "missing_data = pd.DataFrame({'Missing Ratio' :df3_na})\n",
    "missing_data"
   ]
  },
  {
   "cell_type": "code",
   "execution_count": 150,
   "metadata": {},
   "outputs": [
    {
     "data": {
      "image/png": "[encoded data removed]",
      "text/plain": [
       "<matplotlib.figure.Figure at 0x113b68b38>"
      ]
     },
     "metadata": {},
     "output_type": "display_data"
    }
   ],
   "source": [
    "# check the correlation matrix to see how numeric variables are related to target\n",
    "\n",
    "corrmat = df2.corr()\n",
    "sns.heatmap(corrmat, vmax=0.9, square=True)\n",
    "plt.show()"
   ]
  }
 ],
 "metadata": {
  "kernelspec": {
   "display_name": "Python 3",
   "language": "python",
   "name": "python3"
  },
  "language_info": {
   "codemirror_mode": {
    "name": "ipython",
    "version": 3
   },
   "file_extension": ".py",
   "mimetype": "text/x-python",
   "name": "python",
   "nbconvert_exporter": "python",
   "pygments_lexer": "ipython3",
   "version": "3.6.2"
  }
 },
 "nbformat": 4,
 "nbformat_minor": 2
}
