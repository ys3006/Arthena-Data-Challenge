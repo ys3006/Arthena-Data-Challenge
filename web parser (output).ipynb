{
 "cells": [
  {
   "cell_type": "code",
   "execution_count": 32,
   "metadata": {
    "collapsed": true
   },
   "outputs": [],
   "source": [
    "# Using beautifulsoup for web scrapping\n",
    "import bs4\n",
    "from urllib.request import urlopen as uReq\n",
    "from bs4 import BeautifulSoup as soup"
   ]
  },
  {
   "cell_type": "code",
   "execution_count": 33,
   "metadata": {
    "collapsed": true
   },
   "outputs": [],
   "source": [
    "url = 'file:///Users/Yifan/Downloads/lot-parser/data/2015-03-18/lot1.html'\n",
    "\n",
    "# open the html,  grabbing the page\n",
    "uOpen = uReq(url)\n",
    "page_html = uOpen.read()\n",
    "# close the connection\n",
    "uOpen.close()\n",
    "\n",
    "# html parser\n",
    "page_soup = soup(page_html, 'html.parser')"
   ]
  },
  {
   "cell_type": "code",
   "execution_count": 34,
   "metadata": {},
   "outputs": [
    {
     "data": {
      "text/plain": [
       "'Rembrandt Harmensz. van Rijn'"
      ]
     },
     "execution_count": 34,
     "metadata": {},
     "output_type": "execute_result"
    }
   ],
   "source": [
    "# grab the author name\n",
    "page_soup.findAll('h2')[0].text"
   ]
  },
  {
   "cell_type": "markdown",
   "metadata": {},
   "source": [
    "## Task 1 - artist"
   ]
  },
  {
   "cell_type": "code",
   "execution_count": 37,
   "metadata": {},
   "outputs": [
    {
     "name": "stdout",
     "output_type": "stream",
     "text": [
      "['Rembrandt Harmensz. van Rijn', 'Louis Marcoussis (1883-1941)', 'Joan Miró', 'Pablo Picasso', 'Marc Chagall']\n"
     ]
    }
   ],
   "source": [
    "# grab from 2015 directory\n",
    "import glob\n",
    "\n",
    "artist_container = []\n",
    "works_container = []\n",
    "price_container = []\n",
    "for filename in glob.glob('/Users/Yifan/Downloads/lot-parser/data/2015-03-18/*.html'):\n",
    "    page_soup = soup(open(filename, \"r\").read(), 'html5lib')\n",
    "    containers = page_soup.findAll('body')\n",
    "    \n",
    "    for container in containers:\n",
    "        artist = container.findAll('h2')[0]\n",
    "        artist_container.append(artist.text)\n",
    "        \n",
    "        work = container.findAll('h3')[0]\n",
    "        works_container.append(work.text)\n",
    "        \n",
    "        price = container.findAll('div')[1]\n",
    "        price_container.append(price.text)\n",
    "        \n",
    "print(artist_container)"
   ]
  },
  {
   "cell_type": "markdown",
   "metadata": {},
   "source": [
    "## Output - artist + works"
   ]
  },
  {
   "cell_type": "code",
   "execution_count": 38,
   "metadata": {},
   "outputs": [
    {
     "name": "stdout",
     "output_type": "stream",
     "text": [
      "[\n",
      "  {\n",
      "    artist: 'Rembrandt Harmensz. van Rijn', \n",
      "    works: [Christ at Emmaus: The smaller Plate'],\n",
      "  },\n",
      "\n",
      "  {\n",
      "    artist: 'Louis Marcoussis (1883-1941)', \n",
      "    works: [La Table'],\n",
      "  },\n",
      "\n",
      "  {\n",
      "    artist: 'Joan Miró', \n",
      "    works: [Femme et Chien devant la Lune'],\n",
      "  },\n",
      "\n",
      "  {\n",
      "    artist: 'Pablo Picasso', \n",
      "    works: [Quatre Femmes nues et Tête sculptée, from: La Suite Vollard'],\n",
      "  },\n",
      "\n",
      "  {\n",
      "    artist: 'Marc Chagall', \n",
      "    works: [Self-Portrait'],\n",
      "  },\n",
      "\n",
      "]\n"
     ]
    }
   ],
   "source": [
    "print('[')\n",
    "for artist, works in zip(artist_container, works_container):\n",
    "    out = ('  {' + '\\n' \n",
    "           + '    artist: ' + \"'\" + artist + \"'\" + ', ' + '\\n' \n",
    "           + '    works: [' + works + \"'],\" + '\\n'\n",
    "           +'  },' + '\\n')\n",
    "    print(out)\n",
    "print(']')"
   ]
  },
  {
   "cell_type": "markdown",
   "metadata": {},
   "source": [
    "## Output - artist + works ＋ price"
   ]
  },
  {
   "cell_type": "code",
   "execution_count": 39,
   "metadata": {},
   "outputs": [
    {
     "name": "stdout",
     "output_type": "stream",
     "text": [
      "[\n",
      "  {\n",
      "    artist: 'Rembrandt Harmensz. van Rijn', \n",
      "    works: [\n",
      "    { title: 'Christ at Emmaus: The smaller Plate', price: 'GBP 6,875' },\n",
      "  },\n",
      "\n",
      "  {\n",
      "    artist: 'Louis Marcoussis (1883-1941)', \n",
      "    works: [\n",
      "    { title: 'La Table', price: 'GBP 9,200' },\n",
      "  },\n",
      "\n",
      "  {\n",
      "    artist: 'Joan Miró', \n",
      "    works: [\n",
      "    { title: 'Femme et Chien devant la Lune', price: 'GBP 11,250' },\n",
      "  },\n",
      "\n",
      "  {\n",
      "    artist: 'Pablo Picasso', \n",
      "    works: [\n",
      "    { title: 'Quatre Femmes nues et Tête sculptée, from: La Suite Vollard', price: 'USD 25,000' },\n",
      "  },\n",
      "\n",
      "  {\n",
      "    artist: 'Marc Chagall', \n",
      "    works: [\n",
      "    { title: 'Self-Portrait', price: 'GBP 6,000' },\n",
      "  },\n",
      "\n",
      "]\n"
     ]
    }
   ],
   "source": [
    "print('[')\n",
    "for artist, works, price in zip(artist_container, works_container, price_container):\n",
    "    out = ('  {' + '\\n' \n",
    "           + '    artist: ' + \"'\" + artist + \"'\" + ', ' + '\\n' \n",
    "           + '    works: ' + '[' + '\\n'\n",
    "           + '    { ' + \"title: '\" + works + \"', price: '\" + price + \"' },\" + '\\n'\n",
    "           +'  },' + '\\n')\n",
    "    print(out)\n",
    "print(']')"
   ]
  },
  {
   "cell_type": "code",
   "execution_count": 40,
   "metadata": {},
   "outputs": [
    {
     "name": "stdout",
     "output_type": "stream",
     "text": [
      "[['GBP', '6,875'], ['GBP', '9,200'], ['GBP', '11,250'], ['USD', '25,000'], ['GBP', '6,000']]\n"
     ]
    }
   ],
   "source": [
    "# separate currency and amount from pirce container\n",
    "sep = []\n",
    "for word in price_container:\n",
    "    line = word.split(' ')\n",
    "    sep.append(line)\n",
    "print(sep)"
   ]
  },
  {
   "cell_type": "code",
   "execution_count": 41,
   "metadata": {},
   "outputs": [
    {
     "name": "stdout",
     "output_type": "stream",
     "text": [
      "['GBP', 'GBP', 'GBP', 'USD', 'GBP']\n",
      "['6,875', '9,200', '11,250', '25,000', '6,000']\n"
     ]
    }
   ],
   "source": [
    "# store currency and amount in two lists\n",
    "currency_container = []\n",
    "price_container2 = []\n",
    "\n",
    "for item in sep:\n",
    "    curr = item[0]\n",
    "    num = item[1]\n",
    "    currency_container.append(curr)\n",
    "    price_container2.append(num)\n",
    "    \n",
    "print(currency_container)\n",
    "print(price_container2)"
   ]
  },
  {
   "cell_type": "markdown",
   "metadata": {},
   "source": [
    "## Output - artist + works ＋ currency + price amount"
   ]
  },
  {
   "cell_type": "code",
   "execution_count": 12,
   "metadata": {},
   "outputs": [
    {
     "name": "stdout",
     "output_type": "stream",
     "text": [
      "[\n",
      "  {\n",
      "    artist: 'Rembrandt Harmensz. van Rijn', \n",
      "    works: [\n",
      "    { title: 'Christ at Emmaus: The smaller Plate', currency: 'GBP', amount: '6,875' },\n",
      "  },\n",
      "\n",
      "  {\n",
      "    artist: 'Louis Marcoussis (1883-1941)', \n",
      "    works: [\n",
      "    { title: 'La Table', currency: 'GBP', amount: '9,200' },\n",
      "  },\n",
      "\n",
      "  {\n",
      "    artist: 'Joan Miró', \n",
      "    works: [\n",
      "    { title: 'Femme et Chien devant la Lune', currency: 'GBP', amount: '11,250' },\n",
      "  },\n",
      "\n",
      "  {\n",
      "    artist: 'Pablo Picasso', \n",
      "    works: [\n",
      "    { title: 'Quatre Femmes nues et Tête sculptée, from: La Suite Vollard', currency: 'USD', amount: '25,000' },\n",
      "  },\n",
      "\n",
      "  {\n",
      "    artist: 'Marc Chagall', \n",
      "    works: [\n",
      "    { title: 'Self-Portrait', currency: 'GBP', amount: '6,000' },\n",
      "  },\n",
      "\n",
      "]\n"
     ]
    }
   ],
   "source": [
    "# output for 2015 directory\n",
    "print('[')\n",
    "for artist, works, currency, price in zip(artist_container, works_container, currency_container, price_container2):\n",
    "    out = ('  {' + '\\n' \n",
    "           + '    artist: ' + \"'\" + artist + \"'\" + ', ' + '\\n' \n",
    "           + '    works: ' + '[' + '\\n'\n",
    "           + '    { ' + \"title: '\" + works + \"', currency: '\" + currency + \"', amount: '\" + price + \"' },\" + '\\n'\n",
    "           +'  },' + '\\n')\n",
    "    print(out)\n",
    "print(']')"
   ]
  },
  {
   "cell_type": "markdown",
   "metadata": {},
   "source": [
    "## Task 5 - Grab from 2017-12-20 directory"
   ]
  },
  {
   "cell_type": "code",
   "execution_count": 13,
   "metadata": {},
   "outputs": [
    {
     "name": "stdout",
     "output_type": "stream",
     "text": [
      "['Rembrandt Harmensz. van Rijn', 'Louis Marcoussis (1883-1941)', 'Louis Marcoussis (1883-1941)', 'Pablo Picasso (1881-1973)', 'Pablo Picasso (1881-1973)']\n",
      "['Self-Portrait in a Cap and Scarf with Face dark: Bust', \"Portrait d'Alice Halicka\", 'Bar du porto', 'Femme assise, robe bleue', 'Quatre Femmes nues et Tête sculptée, from: La Suite Vollard']\n",
      "['USD', 'USD', 'USD', 'USD', 'USD']\n",
      "['8,125', '182,500', '149,000', '45,047,500', '36,000']\n"
     ]
    }
   ],
   "source": [
    "# grab from 2017 directory\n",
    "\n",
    "import glob\n",
    "\n",
    "artist2_container = []\n",
    "works2_container = []\n",
    "currency2_container = []\n",
    "price2_container = []\n",
    "for filename in glob.glob('/Users/Yifan/Downloads/lot-parser/data/2017-12-20/*.html'):\n",
    "    page_soup = soup(open(filename, \"r\").read(), 'html5lib')\n",
    "    \n",
    "    for container in containers:\n",
    "        artist = page_soup.findAll('h3', {'class': 'artist'})[0]\n",
    "        artist2_container.append(artist.text)\n",
    "        \n",
    "        work = page_soup.findAll('h3')[1]\n",
    "        works2_container.append(work.text)\n",
    "        \n",
    "        currency = page_soup.findAll('span', {'class': 'currency'})[0]\n",
    "        currency2_container.append(currency.text)\n",
    "        \n",
    "        price = page_soup.findAll('span')[1]\n",
    "        price2_container.append(price.text)\n",
    "        \n",
    "print(artist2_container)\n",
    "print(works2_container)\n",
    "print(currency2_container)\n",
    "print(price2_container)"
   ]
  },
  {
   "cell_type": "markdown",
   "metadata": {},
   "source": [
    "## Output - 2017"
   ]
  },
  {
   "cell_type": "code",
   "execution_count": 14,
   "metadata": {},
   "outputs": [
    {
     "name": "stdout",
     "output_type": "stream",
     "text": [
      "[\n",
      "  {\n",
      "    artist: 'Rembrandt Harmensz. van Rijn', \n",
      "    works: [\n",
      "    { title: 'Self-Portrait in a Cap and Scarf with Face dark: Bust', currency: 'USD', amount: '8,125' },\n",
      "  },\n",
      "\n",
      "  {\n",
      "    artist: 'Louis Marcoussis (1883-1941)', \n",
      "    works: [\n",
      "    { title: 'Portrait d'Alice Halicka', currency: 'USD', amount: '182,500' },\n",
      "  },\n",
      "\n",
      "  {\n",
      "    artist: 'Louis Marcoussis (1883-1941)', \n",
      "    works: [\n",
      "    { title: 'Bar du porto', currency: 'USD', amount: '149,000' },\n",
      "  },\n",
      "\n",
      "  {\n",
      "    artist: 'Pablo Picasso (1881-1973)', \n",
      "    works: [\n",
      "    { title: 'Femme assise, robe bleue', currency: 'USD', amount: '45,047,500' },\n",
      "  },\n",
      "\n",
      "  {\n",
      "    artist: 'Pablo Picasso (1881-1973)', \n",
      "    works: [\n",
      "    { title: 'Quatre Femmes nues et Tête sculptée, from: La Suite Vollard', currency: 'USD', amount: '36,000' },\n",
      "  },\n",
      "\n",
      "]\n"
     ]
    }
   ],
   "source": [
    "## Output - Completed output from 2017-12-20 directory\n",
    "print('[')\n",
    "for artist, works, currency, price in zip(artist2_container, works2_container, currency2_container, price2_container):\n",
    "    out = ('  {' + '\\n' \n",
    "           + '    artist: ' + \"'\" + artist + \"'\" + ', ' + '\\n' \n",
    "           + '    works: ' + '[' + '\\n'\n",
    "           + '    { ' + \"title: '\" + works + \"', currency: '\" + currency + \"', amount: '\" + price + \"' },\" + '\\n'\n",
    "           +'  },' + '\\n')\n",
    "    print(out)\n",
    "print(']')"
   ]
  },
  {
   "cell_type": "markdown",
   "metadata": {},
   "source": [
    "## Task 6 - Convert the amount of all works to USD"
   ]
  },
  {
   "cell_type": "code",
   "execution_count": 15,
   "metadata": {
    "collapsed": true
   },
   "outputs": [],
   "source": [
    "import locale\n",
    "locale.setlocale( locale.LC_ALL, 'en_US.UTF-8' ) \n",
    "rate = 1.34 # 1 GBP = 1.34 USD\n",
    "\n",
    "for i in range(len(currency_container)):\n",
    "    if currency_container[i] == 'GBP':\n",
    "        # convert string with commas to int for multiply\n",
    "        price_container2[i] = locale.atoi(price_container2[i]) * rate\n",
    "        # convert int to string with commas as thousands separators\n",
    "        price_container2[i] = \"{:,}\".format(price_container2[i])\n",
    "        currency_container[i] = 'USD'"
   ]
  },
  {
   "cell_type": "markdown",
   "metadata": {},
   "source": [
    "## Final Task I - Preprocessing"
   ]
  },
  {
   "cell_type": "markdown",
   "metadata": {},
   "source": [
    "For final task, given that some of artists have multiple works; since artist names is unique, to return all of the work for each artist,\n",
    "consider using dictionary, where key is the artist name."
   ]
  },
  {
   "cell_type": "code",
   "execution_count": 42,
   "metadata": {
    "collapsed": true
   },
   "outputs": [],
   "source": [
    "# Before creating dictionary, I found artist name from two directories not \n",
    "# in the same format, some of them along with (birth year - death year)\n",
    "\n",
    "# clean the artist name format by removing the date for next step of pairing keys\n",
    "\n",
    "import re\n",
    "\n",
    "# remove everything inside brackets together with \"()\", and taking out the space at begining and end\n",
    "for i in range(len(artist_container)):\n",
    "    artist_container[i] = re.sub(r'\\(.*?\\)', '', artist_container[i]).strip()\n",
    "\n",
    "for i in range(len(artist2_container)):\n",
    "    artist2_container[i] = re.sub(r'\\(.*?\\)', '', artist2_container[i]).strip()"
   ]
  },
  {
   "cell_type": "code",
   "execution_count": 43,
   "metadata": {
    "collapsed": true
   },
   "outputs": [],
   "source": [
    "# To iterate through outputs from two directories, combine dataset together\n",
    "Artist = artist_container + artist2_container\n",
    "Works = works_container + works2_container\n",
    "Currency = currency_container + currency2_container\n",
    "Price = price_container2 + price2_container"
   ]
  },
  {
   "cell_type": "code",
   "execution_count": 44,
   "metadata": {},
   "outputs": [
    {
     "data": {
      "text/plain": [
       "['Rembrandt Harmensz. van Rijn',\n",
       " 'Louis Marcoussis',\n",
       " 'Joan Miró',\n",
       " 'Pablo Picasso',\n",
       " 'Marc Chagall',\n",
       " 'Rembrandt Harmensz. van Rijn',\n",
       " 'Louis Marcoussis',\n",
       " 'Louis Marcoussis',\n",
       " 'Pablo Picasso',\n",
       " 'Pablo Picasso']"
      ]
     },
     "execution_count": 44,
     "metadata": {},
     "output_type": "execute_result"
    }
   ],
   "source": [
    "Artist"
   ]
  },
  {
   "cell_type": "code",
   "execution_count": 26,
   "metadata": {
    "collapsed": true
   },
   "outputs": [],
   "source": [
    "# D is dict for storing key(artist name): [title1, currency1, amount1], [title2, currency1, amount1]\n",
    "D = {}\n",
    "for i in range(len(Artist)):\n",
    "    key = Artist[i]\n",
    "    # if key not in dict, add them in\n",
    "    if key not in D.keys():\n",
    "        value = [(Works[i], Currency[i], Price[i])]\n",
    "        D[key] = value\n",
    "    # if key exists, add value under that key\n",
    "    else:\n",
    "        value2 = (Works[i], Currency[i], Price[i])\n",
    "        D[key].append(value2)"
   ]
  },
  {
   "cell_type": "code",
   "execution_count": 27,
   "metadata": {},
   "outputs": [
    {
     "data": {
      "text/plain": [
       "{'Joan Miró': [('Femme et Chien devant la Lune', 'USD', '15,075.0')],\n",
       " 'Louis Marcoussis': [('La Table', 'USD', '12,328.0'),\n",
       "  (\"Portrait d'Alice Halicka\", 'USD', '182,500'),\n",
       "  ('Bar du porto', 'USD', '149,000')],\n",
       " 'Marc Chagall': [('Self-Portrait', 'USD', '8,040.000000000001')],\n",
       " 'Pablo Picasso': [('Quatre Femmes nues et Tête sculptée, from: La Suite Vollard',\n",
       "   'USD',\n",
       "   '25,000'),\n",
       "  ('Femme assise, robe bleue', 'USD', '45,047,500'),\n",
       "  ('Quatre Femmes nues et Tête sculptée, from: La Suite Vollard',\n",
       "   'USD',\n",
       "   '36,000')],\n",
       " 'Rembrandt Harmensz. van Rijn': [('Christ at Emmaus: The smaller Plate',\n",
       "   'USD',\n",
       "   '9,212.5'),\n",
       "  ('Self-Portrait in a Cap and Scarf with Face dark: Bust', 'USD', '8,125')]}"
      ]
     },
     "execution_count": 27,
     "metadata": {},
     "output_type": "execute_result"
    }
   ],
   "source": [
    "D"
   ]
  },
  {
   "cell_type": "code",
   "execution_count": 28,
   "metadata": {
    "collapsed": true
   },
   "outputs": [],
   "source": [
    "# T is dict for storing totalValue for each key from D above\n",
    "\n",
    "T = {}\n",
    "for key in D.keys():\n",
    "    value = D[key]\n",
    "    totalValue = 0\n",
    "    for j in range(len(value)):\n",
    "        V = value[j][2]\n",
    "        totalValue += float(V.replace(',',''))\n",
    "    T[key] = str(totalValue)"
   ]
  },
  {
   "cell_type": "code",
   "execution_count": 29,
   "metadata": {},
   "outputs": [
    {
     "data": {
      "text/plain": [
       "{'Joan Miró': '15075.0',\n",
       " 'Louis Marcoussis': '343828.0',\n",
       " 'Marc Chagall': '8040.000000000001',\n",
       " 'Pablo Picasso': '45108500.0',\n",
       " 'Rembrandt Harmensz. van Rijn': '17337.5'}"
      ]
     },
     "execution_count": 29,
     "metadata": {},
     "output_type": "execute_result"
    }
   ],
   "source": [
    "T"
   ]
  },
  {
   "cell_type": "markdown",
   "metadata": {},
   "source": [
    "## Final Output - artist + totalValue + title ＋ currency + totalLifetimeValue"
   ]
  },
  {
   "cell_type": "code",
   "execution_count": 31,
   "metadata": {},
   "outputs": [
    {
     "name": "stdout",
     "output_type": "stream",
     "text": [
      "[\n",
      "  {\n",
      "    artist: 'Rembrandt Harmensz. van Rijn',\n",
      "    totalValue: 'USD 17337.5',\n",
      "    works: [\n",
      "      { title: 'Christ at Emmaus: The smaller Plate', currency: 'USD', totalLifetimeValue: '9,212.5' },\n",
      "      { title: 'Self-Portrait in a Cap and Scarf with Face dark: Bust', currency: 'USD', totalLifetimeValue: '8,125' },\n",
      "    ],\n",
      "  },\n",
      "  {\n",
      "    artist: 'Louis Marcoussis',\n",
      "    totalValue: 'USD 343828.0',\n",
      "    works: [\n",
      "      { title: 'La Table', currency: 'USD', totalLifetimeValue: '12,328.0' },\n",
      "      { title: 'Portrait d'Alice Halicka', currency: 'USD', totalLifetimeValue: '182,500' },\n",
      "      { title: 'Bar du porto', currency: 'USD', totalLifetimeValue: '149,000' },\n",
      "    ],\n",
      "  },\n",
      "  {\n",
      "    artist: 'Joan Miró',\n",
      "    totalValue: 'USD 15075.0',\n",
      "    works: [\n",
      "      { title: 'Femme et Chien devant la Lune', currency: 'USD', totalLifetimeValue: '15,075.0' },\n",
      "    ],\n",
      "  },\n",
      "  {\n",
      "    artist: 'Pablo Picasso',\n",
      "    totalValue: 'USD 45108500.0',\n",
      "    works: [\n",
      "      { title: 'Quatre Femmes nues et Tête sculptée, from: La Suite Vollard', currency: 'USD', totalLifetimeValue: '25,000' },\n",
      "      { title: 'Femme assise, robe bleue', currency: 'USD', totalLifetimeValue: '45,047,500' },\n",
      "      { title: 'Quatre Femmes nues et Tête sculptée, from: La Suite Vollard', currency: 'USD', totalLifetimeValue: '36,000' },\n",
      "    ],\n",
      "  },\n",
      "  {\n",
      "    artist: 'Marc Chagall',\n",
      "    totalValue: 'USD 8040.000000000001',\n",
      "    works: [\n",
      "      { title: 'Self-Portrait', currency: 'USD', totalLifetimeValue: '8,040.000000000001' },\n",
      "    ],\n",
      "  },\n",
      "]\n"
     ]
    }
   ],
   "source": [
    "# print out final format\n",
    "\n",
    "print('[')\n",
    "\n",
    "for key in D.keys():\n",
    "    value = D[key]\n",
    "    totalValue = T[key]\n",
    "    outer_frame = ('  {' + '\\n' \n",
    "                   + \"    artist: '\" + key + \"',\" + '\\n'\n",
    "                   + \"    totalValue: 'USD \" + totalValue + \"',\" + '\\n'\n",
    "                   + \"    works: [\")\n",
    "    print(outer_frame)\n",
    "    for j in range(len(value)):\n",
    "        inner_frame = (\"      { title: '\" + value[j][0] \n",
    "                       + \"', currency: '\" + value[j][1] \n",
    "                       + \"', totalLifetimeValue: '\" + value[j][2] + \"' },\")\n",
    "        print(inner_frame)\n",
    "    print(\"    ],\" + '\\n' + \"  },\")\n",
    "\n",
    "print(']')"
   ]
  }
 ],
 "metadata": {
  "kernelspec": {
   "display_name": "Python 3",
   "language": "python",
   "name": "python3"
  },
  "language_info": {
   "codemirror_mode": {
    "name": "ipython",
    "version": 3
   },
   "file_extension": ".py",
   "mimetype": "text/x-python",
   "name": "python",
   "nbconvert_exporter": "python",
   "pygments_lexer": "ipython3",
   "version": "3.6.2"
  }
 },
 "nbformat": 4,
 "nbformat_minor": 2
}
